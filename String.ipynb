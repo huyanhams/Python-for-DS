{
 "cells": [
  {
   "cell_type": "code",
   "execution_count": 1,
   "id": "08878ef2-3924-424b-b5cb-02e8ab667875",
   "metadata": {},
   "outputs": [
    {
     "name": "stdout",
     "output_type": "stream",
     "text": [
      "h\n"
     ]
    }
   ],
   "source": [
    "name = \"huyanh\"\n",
    "print(name[0])"
   ]
  },
  {
   "cell_type": "code",
   "execution_count": 3,
   "id": "08aeafc4-2f6e-469f-aaf2-28c9769d3462",
   "metadata": {},
   "outputs": [
    {
     "name": "stdout",
     "output_type": "stream",
     "text": [
      "n\n"
     ]
    }
   ],
   "source": [
    "name = \"huyanh\"\n",
    "print(name[-2])"
   ]
  },
  {
   "cell_type": "code",
   "execution_count": 7,
   "id": "8d637e3d-f980-4928-8bc8-cdfd3cdb9e4f",
   "metadata": {},
   "outputs": [
    {
     "name": "stdout",
     "output_type": "stream",
     "text": [
      "h u y a n h h u y a n h "
     ]
    }
   ],
   "source": [
    "name = \"huyanh\"\n",
    "for i in range(-6, 6):\n",
    "    print(name[i], end = \" \")"
   ]
  },
  {
   "cell_type": "code",
   "execution_count": 10,
   "id": "3b682fad-8da3-4e57-9f57-faa12398271f",
   "metadata": {},
   "outputs": [
    {
     "name": "stdout",
     "output_type": "stream",
     "text": [
      "huya\n",
      "nh\n"
     ]
    }
   ],
   "source": [
    "name = \"huyanh\"\n",
    "print(name[:4])\n",
    "print(name[4:])"
   ]
  },
  {
   "cell_type": "code",
   "execution_count": 12,
   "id": "34a188b6-d280-4c86-8354-0d4d25e01341",
   "metadata": {},
   "outputs": [
    {
     "data": {
      "text/plain": [
       "'uya'"
      ]
     },
     "execution_count": 12,
     "metadata": {},
     "output_type": "execute_result"
    }
   ],
   "source": [
    "name = \"huyanh\"\n",
    "name[1:4]"
   ]
  },
  {
   "cell_type": "code",
   "execution_count": 13,
   "id": "e8bc41cf-081e-4004-84f8-872e26991244",
   "metadata": {},
   "outputs": [
    {
     "data": {
      "text/plain": [
       "'yan'"
      ]
     },
     "execution_count": 13,
     "metadata": {},
     "output_type": "execute_result"
    }
   ],
   "source": [
    "name = \"huyanh\"\n",
    "name[2:5]"
   ]
  },
  {
   "cell_type": "code",
   "execution_count": 18,
   "id": "cd8027bb-c8ba-4d5d-a9c5-0cc7cd61f63c",
   "metadata": {},
   "outputs": [
    {
     "name": "stdout",
     "output_type": "stream",
     "text": [
      "hellohuyanh\n"
     ]
    }
   ],
   "source": [
    "greet = \"hellohuyanh\"\n",
    "print(greet[:5] + greet[5:])"
   ]
  },
  {
   "cell_type": "code",
   "execution_count": null,
   "id": "11b3d067-f50a-46b3-b040-70a9246347bc",
   "metadata": {},
   "outputs": [],
   "source": []
  }
 ],
 "metadata": {
  "kernelspec": {
   "display_name": "Python 3 (ipykernel)",
   "language": "python",
   "name": "python3"
  },
  "language_info": {
   "codemirror_mode": {
    "name": "ipython",
    "version": 3
   },
   "file_extension": ".py",
   "mimetype": "text/x-python",
   "name": "python",
   "nbconvert_exporter": "python",
   "pygments_lexer": "ipython3",
   "version": "3.12.2"
  }
 },
 "nbformat": 4,
 "nbformat_minor": 5
}
