{
 "cells": [
  {
   "cell_type": "code",
   "execution_count": 1,
   "id": "65d96056-9abf-4fb3-a3a6-51b28544a1e2",
   "metadata": {},
   "outputs": [
    {
     "name": "stdout",
     "output_type": "stream",
     "text": [
      "He is Huy Anh, 15 years old.\n"
     ]
    }
   ],
   "source": [
    "# Create a new object\n",
    "class person:\n",
    "    def __init__(self): # Always start with the __init__ method and self constructor\n",
    "        self.name = \"Huy Anh\"\n",
    "        self.age = 15\n",
    "\n",
    "me = person()\n",
    "print (\"He is {}, {} years old.\".format(me.name, me.age))"
   ]
  },
  {
   "cell_type": "code",
   "execution_count": 2,
   "id": "f7bea55a-8cfb-4465-afc7-309aff9d2ed0",
   "metadata": {},
   "outputs": [
    {
     "name": "stdout",
     "output_type": "stream",
     "text": [
      "Huy Anh\n",
      "15\n"
     ]
    }
   ],
   "source": [
    "# Add attributes to the object\n",
    "class person:\n",
    "    def __init__(self, name, age):\n",
    "        self.name = name\n",
    "        self.age = age\n",
    "\n",
    "me = person(\"Huy Anh\", 15)\n",
    "print(me.name)\n",
    "print(me.age)"
   ]
  },
  {
   "cell_type": "code",
   "execution_count": 3,
   "id": "89cfd934-80e1-4121-85ea-7cc3ee29742e",
   "metadata": {},
   "outputs": [
    {
     "name": "stdout",
     "output_type": "stream",
     "text": [
      "A person whose name is Huy Anh and age is 15.\n"
     ]
    }
   ],
   "source": [
    "# The dunder method\n",
    "# The __str__ method controls how the object is converted to a string representation for output\n",
    "# When you print something, Python calls the object's __tr__ return value\n",
    "class person:\n",
    "    def __init__(self, name, age):\n",
    "        self.name = name\n",
    "        self.age = age\n",
    "    def __str__(self):\n",
    "        return \"A person whose name is {} and age is {}.\".format(self.name, self.age)\n",
    "\n",
    "me = person(\"Huy Anh\", 15)\n",
    "print(me)"
   ]
  },
  {
   "cell_type": "code",
   "execution_count": 14,
   "id": "9c335873-3ecf-4029-918c-de237c5f4f65",
   "metadata": {},
   "outputs": [
    {
     "data": {
      "text/plain": [
       "'My name is Piglet and I squeaks Oink!'"
      ]
     },
     "execution_count": 14,
     "metadata": {},
     "output_type": "execute_result"
    }
   ],
   "source": [
    "class pig:\n",
    "    def __init__(self, name, language):\n",
    "        self.name = name\n",
    "        self.language = language\n",
    "    def speak(self):\n",
    "        return \"My name is {} and I squeaks {}!\".format(self.name, self.language)\n",
    "\n",
    "me = pig(\"Piglet\", \"Oink\")\n",
    "me.speak() # Use the speak() method in the pig class"
   ]
  },
  {
   "cell_type": "code",
   "execution_count": null,
   "id": "bf77e367-f8af-4155-bb7a-2ec8b3106a39",
   "metadata": {},
   "outputs": [],
   "source": []
  }
 ],
 "metadata": {
  "kernelspec": {
   "display_name": "Python 3 (ipykernel)",
   "language": "python",
   "name": "python3"
  },
  "language_info": {
   "codemirror_mode": {
    "name": "ipython",
    "version": 3
   },
   "file_extension": ".py",
   "mimetype": "text/x-python",
   "name": "python",
   "nbconvert_exporter": "python",
   "pygments_lexer": "ipython3",
   "version": "3.12.2"
  }
 },
 "nbformat": 4,
 "nbformat_minor": 5
}
