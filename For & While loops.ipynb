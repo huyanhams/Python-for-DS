{
 "cells": [
  {
   "cell_type": "code",
   "execution_count": 5,
   "id": "38282343-d492-4861-8088-83c4fa46b14b",
   "metadata": {},
   "outputs": [
    {
     "name": "stdout",
     "output_type": "stream",
     "text": [
      "2 13 19 127 "
     ]
    }
   ],
   "source": [
    "# While loop\n",
    "def prime_factorization(number):\n",
    "    index = 2\n",
    "    while number > 1:\n",
    "        while number % index == 0:\n",
    "            number /= index\n",
    "            print(str(index), end = \" \")\n",
    "        index += 1\n",
    "\n",
    "number = 62738\n",
    "prime_factorization(number)"
   ]
  },
  {
   "cell_type": "code",
   "execution_count": null,
   "id": "7b1e62d9-fea4-4d97-b411-ee98defefdfd",
   "metadata": {},
   "outputs": [],
   "source": [
    "# Make a loop runs forever\n",
    "while True:\n",
    "    do_something()"
   ]
  },
  {
   "cell_type": "code",
   "execution_count": 12,
   "id": "9021e355-7bc7-410d-8244-5f485af66206",
   "metadata": {},
   "outputs": [
    {
     "name": "stdout",
     "output_type": "stream",
     "text": [
      "0\n",
      "1\n",
      "2\n",
      "3\n",
      "4\n"
     ]
    }
   ],
   "source": [
    "# For loop\n",
    "# A range of numbers will start with the number 0 by default\n",
    "for x in range(5):\n",
    "    print(x)"
   ]
  },
  {
   "cell_type": "code",
   "execution_count": 9,
   "id": "65aeac03-c4da-4830-890f-6fed29880e42",
   "metadata": {},
   "outputs": [
    {
     "name": "stdout",
     "output_type": "stream",
     "text": [
      "a\n",
      "b\n",
      "c\n",
      "d\n"
     ]
    }
   ],
   "source": [
    "letters = [\"a\", \"b\", \"c\", \"d\"]\n",
    "for letter in letters:\n",
    "    print (letter)"
   ]
  },
  {
   "cell_type": "code",
   "execution_count": 11,
   "id": "95e5c904-1c4d-4f38-aeb5-aca7c4f94d9f",
   "metadata": {},
   "outputs": [
    {
     "name": "stdout",
     "output_type": "stream",
     "text": [
      "260\n"
     ]
    }
   ],
   "source": [
    "values = [23, 16, 76, 34, 88, 23]\n",
    "sum = 0\n",
    "for value in values:\n",
    "    sum += value\n",
    "print(sum)"
   ]
  },
  {
   "cell_type": "code",
   "execution_count": 13,
   "id": "89bf86c9-e3b3-43a4-bf05-2e2871ad8092",
   "metadata": {},
   "outputs": [
    {
     "name": "stdout",
     "output_type": "stream",
     "text": [
      "15990\n"
     ]
    }
   ],
   "source": [
    "values = [23, 16, 76, 34, 88, 23]\n",
    "sum = 0\n",
    "for value in values:\n",
    "    sum += value**2\n",
    "print(sum)"
   ]
  },
  {
   "cell_type": "code",
   "execution_count": 14,
   "id": "049cb646-fae3-42e3-90e5-44859f02db49",
   "metadata": {},
   "outputs": [
    {
     "name": "stdout",
     "output_type": "stream",
     "text": [
      "285\n"
     ]
    }
   ],
   "source": [
    "sum = 0\n",
    "for n in range(1, 10): # The loop will terminate when n reaches 9\n",
    "    sum += n ** 2\n",
    "print(sum)"
   ]
  },
  {
   "cell_type": "code",
   "execution_count": 17,
   "id": "2d39f496-c0fa-4859-bea5-27ed0264e907",
   "metadata": {},
   "outputs": [
    {
     "name": "stdout",
     "output_type": "stream",
     "text": [
      "0 0.0\n",
      "10 3.1622776601683795\n",
      "20 4.47213595499958\n",
      "30 5.477225575051661\n",
      "40 6.324555320336759\n",
      "50 7.0710678118654755\n",
      "60 7.745966692414834\n",
      "70 8.366600265340756\n",
      "80 8.94427190999916\n",
      "90 9.486832980505138\n",
      "100 10.0\n"
     ]
    }
   ],
   "source": [
    "def sqrt(n):\n",
    "    return n ** 0.5\n",
    "\n",
    "for i in range(0, 101, 10): # Starts at 0, ends at 100 and goes at a step = 10\n",
    "    print(i, sqrt(i))"
   ]
  },
  {
   "cell_type": "code",
   "execution_count": 1,
   "id": "d2403619-15c8-4fbe-bd63-29447be1793a",
   "metadata": {},
   "outputs": [
    {
     "name": "stdout",
     "output_type": "stream",
     "text": [
      "team1 vs team2\n",
      "team1 vs team3\n",
      "team2 vs team1\n",
      "team2 vs team3\n",
      "team3 vs team1\n",
      "team3 vs team2\n"
     ]
    }
   ],
   "source": [
    "teams = [\"team1\", \"team2\", \"team3\"]\n",
    "for a in teams:\n",
    "    for b in teams:\n",
    "        if a != b:\n",
    "            print(a + \" vs \" + b)"
   ]
  },
  {
   "cell_type": "code",
   "execution_count": null,
   "id": "4acf55c6-f37b-4aa9-b775-b4babd4e3bb8",
   "metadata": {},
   "outputs": [],
   "source": [
    "# Syntax\n",
    "for i in range(a) # from 0 to a - 1\n",
    "for i in range(a, b) # from a to b - 1"
   ]
  },
  {
   "cell_type": "code",
   "execution_count": 4,
   "id": "19ff0ffe-11a4-4da2-8e06-8783e29d34f4",
   "metadata": {},
   "outputs": [
    {
     "name": "stdout",
     "output_type": "stream",
     "text": [
      "[1|1] [1|2] [1|3] [1|4] [1|5] [1|6] \n",
      "[2|2] [2|3] [2|4] [2|5] [2|6] \n",
      "[3|3] [3|4] [3|5] [3|6] \n",
      "[4|4] [4|5] [4|6] \n",
      "[5|5] [5|6] \n",
      "[6|6] \n"
     ]
    }
   ],
   "source": [
    "for i in range(1, 7):\n",
    "    for j in range(i, 7):\n",
    "        print(\"[\" + str(i) + \"|\" + str(j) + \"]\", end = \" \")\n",
    "    print()"
   ]
  },
  {
   "cell_type": "code",
   "execution_count": 5,
   "id": "25c2f018-46f8-493d-af0d-a367b86c344a",
   "metadata": {},
   "outputs": [
    {
     "name": "stdout",
     "output_type": "stream",
     "text": [
      "h\n",
      "e\n",
      "l\n",
      "l\n",
      "o\n"
     ]
    }
   ],
   "source": [
    "greet = \"hello\"\n",
    "for c in greet:\n",
    "    print(c)"
   ]
  },
  {
   "cell_type": "code",
   "execution_count": 5,
   "id": "43deb4b5-9e55-4491-936f-674822455cd7",
   "metadata": {},
   "outputs": [
    {
     "name": "stdout",
     "output_type": "stream",
     "text": [
      "23 is a prime number.\n"
     ]
    }
   ],
   "source": [
    "def is_prime(number):\n",
    "    check = True\n",
    "    p = 2\n",
    "    while p * p <= number:\n",
    "        if number % p == 0:\n",
    "            check = False\n",
    "        p += 1\n",
    "    if check == True:\n",
    "        print(str(number) + \" is a prime number.\")\n",
    "    else:\n",
    "        print(str(number) + \" is not a prime number.\")\n",
    "is_prime(23)"
   ]
  },
  {
   "cell_type": "code",
   "execution_count": null,
   "id": "e2ed60c6-d461-4b4d-8f92-8821a0f2f79d",
   "metadata": {},
   "outputs": [],
   "source": []
  }
 ],
 "metadata": {
  "kernelspec": {
   "display_name": "Python 3 (ipykernel)",
   "language": "python",
   "name": "python3"
  },
  "language_info": {
   "codemirror_mode": {
    "name": "ipython",
    "version": 3
   },
   "file_extension": ".py",
   "mimetype": "text/x-python",
   "name": "python",
   "nbconvert_exporter": "python",
   "pygments_lexer": "ipython3",
   "version": "3.12.2"
  }
 },
 "nbformat": 4,
 "nbformat_minor": 5
}
